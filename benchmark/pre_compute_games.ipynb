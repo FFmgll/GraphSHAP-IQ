{
 "cells": [
  {
   "metadata": {},
   "cell_type": "markdown",
   "source": [
    "# Precomputing the Game Values\n",
    "This notebook contains all code that was used to pre-compute the game values for the benchmark games in `shapiq`."
   ],
   "id": "5a7f8a521f243779"
  },
  {
   "metadata": {
    "ExecuteTime": {
     "end_time": "2024-05-07T14:54:02.219403Z",
     "start_time": "2024-05-07T14:54:02.204610Z"
    }
   },
   "cell_type": "code",
   "source": [
    "# general imports used for different games\n",
    "import os\n",
    "import sys\n",
    "import random\n",
    "\n",
    "import numpy as np\n",
    "import pandas as pd\n",
    "\n",
    "from shapiq.games.benchmark import pre_compute_and_store, pre_compute_and_store_from_list, get_game_files\n",
    "from shapiq.games import Game"
   ],
   "id": "2f82be095636d51f",
   "outputs": [],
   "execution_count": 2
  },
  {
   "metadata": {},
   "cell_type": "markdown",
   "source": [
    "## Local Explanation Games\n",
    "This section showcases how the local explanation games can be pre-computed. The following games are pre-computed:\n",
    "- `AdultCensusLocalXAI`\n",
    "- `CaliforniaHousingLocalXAI`\n",
    "- `BikeSharingLocalXAI`\n",
    "- `SentimentAnalysisLocalXAI`"
   ],
   "id": "74f08c0107dc0ccc"
  },
  {
   "metadata": {},
   "cell_type": "markdown",
   "source": "### SentimentAnalysis Game (Language Model Examples)",
   "id": "fef1b1524ddcb374"
  },
  {
   "metadata": {
    "ExecuteTime": {
     "end_time": "2024-05-03T15:48:40.113264Z",
     "start_time": "2024-05-03T15:48:40.101949Z"
    }
   },
   "cell_type": "code",
   "source": [
    "from shapiq.games.benchmark import SentimentAnalysisLocalXAI\n",
    "\n",
    "\n",
    "def pre_compute_imdb(n_games: int, n_players: int, n_jobs: int = 1) -> None:\n",
    "    \"\"\"Loads the IMDB dataset and pre-computes the values for the sentiment analysis game.\n",
    "\n",
    "    Args:\n",
    "        n_games: The number of games to pre-compute the values for.\n",
    "        n_players: The number of players in the game.\n",
    "        n_jobs: The number of parallel jobs to run. Default is 1.\n",
    "    \"\"\"\n",
    "\n",
    "    # load the IMDB dataset\n",
    "    imdb_data = pd.read_csv(os.path.join(\"data\", \"simplified_imdb.csv\"))\n",
    "    imdb_data = imdb_data[imdb_data[\"length\"] == n_players]\n",
    "\n",
    "    # make text column into unique identifier by taking the first letter of each word\n",
    "    imdb_data[\"game_id\"] = imdb_data[\"text\"].apply(\n",
    "        lambda x: \"\".join([word[0] for word in x.split()])\n",
    "    )\n",
    "\n",
    "    # read the games that have already been pre-computed\n",
    "    all_game_files = get_game_files(SentimentAnalysisLocalXAI, n_players=n_players)\n",
    "    # get game_ids from the files\n",
    "    all_game_ids = set([file.split(\".\")[0] for file in all_game_files])\n",
    "    print(f\"Found {len(all_game_ids)} games precomputed.\")\n",
    "\n",
    "    # get the games that have not been pre-computed\n",
    "    imdb_data = imdb_data[~imdb_data[\"game_id\"].isin(all_game_ids)]\n",
    "\n",
    "    # sample random games\n",
    "    imdb_data = imdb_data.sample(n=n_games)\n",
    "\n",
    "    # get the games\n",
    "    games, game_ids = [], []\n",
    "    for _, row in imdb_data.iterrows():\n",
    "        game = SentimentAnalysisLocalXAI(input_text=row[\"text\"], verbose=True)\n",
    "        games.append(game)\n",
    "        game_ids.append(row[\"game_id\"])\n",
    "\n",
    "    # pre-compute the values for the games\n",
    "    # save_dir = os.path.join(\"precomputed\", \"SentimentAnalysis(Game)\")\n",
    "    print(f\"Precomputing {n_games} games with {n_players} players.\")\n",
    "    pre_compute_and_store_from_list(games, game_ids=game_ids, n_jobs=n_jobs)"
   ],
   "id": "85555381879538c2",
   "outputs": [],
   "execution_count": 7
  },
  {
   "metadata": {
    "ExecuteTime": {
     "end_time": "2024-05-03T08:35:23.143023Z",
     "start_time": "2024-05-03T08:34:36.063384Z"
    }
   },
   "cell_type": "code",
   "source": [
    "# pre-compute the values for the sentiment analysis game\n",
    "\n",
    "pre_compute_imdb(n_games=2, n_players=10, n_jobs=1)"
   ],
   "id": "3965cb448820c2d6",
   "outputs": [
    {
     "name": "stdout",
     "output_type": "stream",
     "text": [
      "Found 8 games precomputed.\n",
      "Precomputing 2 games with 10 players.\n"
     ]
    },
    {
     "data": {
      "text/plain": [
       "Evaluating game:   0%|          | 0/1024 [00:00<?, ? coalition/s]"
      ],
      "application/vnd.jupyter.widget-view+json": {
       "version_major": 2,
       "version_minor": 0,
       "model_id": "0e469793980941b787b283c6add01dd5"
      }
     },
     "metadata": {},
     "output_type": "display_data"
    },
    {
     "data": {
      "text/plain": [
       "Evaluating game:   0%|          | 0/1024 [00:00<?, ? coalition/s]"
      ],
      "application/vnd.jupyter.widget-view+json": {
       "version_major": 2,
       "version_minor": 0,
       "model_id": "2108368019e14f178c9012b92ad7f1eb"
      }
     },
     "metadata": {},
     "output_type": "display_data"
    }
   ],
   "execution_count": 3
  },
  {
   "metadata": {},
   "cell_type": "markdown",
   "source": "### Tabular Datasets Games",
   "id": "b4a759e6e0078f0c"
  },
  {
   "metadata": {
    "ExecuteTime": {
     "end_time": "2024-05-03T16:04:38.497398Z",
     "start_time": "2024-05-03T16:04:38.476195Z"
    }
   },
   "cell_type": "code",
   "source": [
    "from shapiq.games.benchmark import AdultCensusLocalXAI, CaliforniaHousingLocalXAI, BikeSharingLocalXAI\n",
    "\n",
    "\n",
    "def pre_compute_tabular_local_xai(dataset_name: str, model_name: str, n_games: int, n_jobs: int = 1) -> None:\n",
    "    \"\"\"Pre-computes the values for the tabular datasets games.\n",
    "\n",
    "    Args:\n",
    "        dataset_name: The name of the dataset to pre-compute the values for.\n",
    "        model_name: The name of the model to use for the game.\n",
    "        n_games: The number of games to pre-compute the values for.\n",
    "        n_jobs: The number of parallel jobs to run. Default is 1.\n",
    "    \"\"\"\n",
    "\n",
    "    # load the correct game\n",
    "    if dataset_name == \"adult_census\":\n",
    "        game_class = AdultCensusLocalXAI\n",
    "    elif dataset_name == \"california_housing\":\n",
    "        game_class = CaliforniaHousingLocalXAI\n",
    "    elif dataset_name == \"bike_sharing\":\n",
    "        game_class = BikeSharingLocalXAI\n",
    "    else:\n",
    "        raise ValueError(f\"Unknown dataset name: {dataset_name}\")\n",
    "    \n",
    "    setup_game = game_class(model_name=model_name)\n",
    "    \n",
    "    # read the games that have already been pre-computed\n",
    "    all_game_files = get_game_files(setup_game, n_players=setup_game.n_players)\n",
    "    # get game_ids from the files\n",
    "    all_game_ids = set([file.split(\".\")[0] for file in all_game_files])\n",
    "    print(f\"Found {len(all_game_ids)} games precomputed.\")\n",
    "    \n",
    "    # get n_samples from the test set\n",
    "    n_test = len(setup_game.setup.x_test)\n",
    "    \n",
    "    # get the games\n",
    "    games, game_ids = [], []\n",
    "    while len(games) < n_games:\n",
    "        data_i = random.randint(0, n_test - 1)\n",
    "        game_id = f\"{model_name}_{data_i}\"\n",
    "        if game_id not in all_game_ids:\n",
    "            game = game_class(model_name=model_name, x=data_i, verbose=False, random_state=42)\n",
    "            games.append(game)\n",
    "            game_ids.append(game_id)    \n",
    "\n",
    "    # pre-compute the values for the games\n",
    "    print(f\"Precomputing {n_games} games for {setup_game.game_name} with {model_name}.\")\n",
    "    pre_compute_and_store_from_list(games, game_ids=game_ids, n_jobs=n_jobs)"
   ],
   "id": "9abcb268500f482d",
   "outputs": [],
   "execution_count": 7
  },
  {
   "metadata": {
    "ExecuteTime": {
     "end_time": "2024-05-03T16:06:32.750124Z",
     "start_time": "2024-05-03T16:06:23.477043Z"
    }
   },
   "cell_type": "code",
   "source": [
    "# pre-compute the values for the tabular datasets games\n",
    "\n",
    "DATASET_NAME = \"adult_census\"\n",
    "MODEL_NAME = \"decision_tree\"\n",
    "N_GAMES = 10\n",
    "N_JOBS = 1\n",
    "\n",
    "pre_compute_tabular_local_xai(DATASET_NAME, MODEL_NAME, N_GAMES, N_JOBS)"
   ],
   "id": "50d63f7cc03e9749",
   "outputs": [
    {
     "name": "stdout",
     "output_type": "stream",
     "text": [
      "Trained model decision_tree for the adult_census dataset.\n",
      "Score on training data: 0.8140203449800973\n",
      "Found 0 games precomputed.\n",
      "Precomputing 10 games for AdultCensus_LocalExplanation_Game with decision_tree.\n"
     ]
    }
   ],
   "execution_count": 9
  },
  {
   "metadata": {},
   "cell_type": "markdown",
   "source": [
    "## Global Explanation Games\n",
    "This section showcases how the global explanation games can be pre-computed. The following games are pre-computed:\n",
    "- `AdultCensusGlobalXAI`\n",
    "- `CaliforniaHousingGlobalXAI`\n",
    "- `BikeSharingGlobalXAI`"
   ],
   "id": "3cff39cedb5c2f30"
  },
  {
   "metadata": {
    "ExecuteTime": {
     "end_time": "2024-05-07T14:54:04.990934Z",
     "start_time": "2024-05-07T14:54:04.981926Z"
    }
   },
   "cell_type": "code",
   "source": [
    "from shapiq.games.benchmark import AdultCensusGlobalXAI, CaliforniaHousingGlobalXAI, BikeSharingGlobalXAI\n",
    "\n",
    "def pre_compute_tabular_global_xai(dataset_name: str, model_name: str, loss_function: str, n_games: int, n_jobs: int = 1) -> None:\n",
    "    \"\"\"Pre-computes the values for the tabular datasets games.\n",
    "    \n",
    "    Args:\n",
    "        dataset_name: The name of the dataset to pre-compute the values for.\n",
    "        model_name: The name of the model to use for the game.\n",
    "        loss_function: The loss function to use for the game.\n",
    "        n_games: The number of games to pre-compute the values for.\n",
    "        n_jobs: The number of parallel jobs to run. Default is 1.\n",
    "    \"\"\"\n",
    "    \n",
    "    # load the correct game\n",
    "    if dataset_name == \"adult_census\":\n",
    "        game_class = AdultCensusGlobalXAI\n",
    "    elif dataset_name == \"california_housing\":\n",
    "        game_class = CaliforniaHousingGlobalXAI\n",
    "    elif dataset_name == \"bike_sharing\":\n",
    "        game_class = BikeSharingGlobalXAI\n",
    "    else:\n",
    "        raise ValueError(f\"Unknown dataset name: {dataset_name}\")\n",
    "    \n",
    "    setup_game = game_class(model_name=model_name, loss_function=loss_function)\n",
    "    \n",
    "    # read the games that have already been pre-computed\n",
    "    all_game_files = get_game_files(setup_game, n_players=setup_game.n_players)\n",
    "    \n",
    "    # get game_ids from the files\n",
    "    all_game_ids = set([file.split(\".\")[0] for file in all_game_files])\n",
    "    print(f\"Found {len(all_game_ids)} games precomputed.\")\n",
    "    \n",
    "    # get the games\n",
    "    games, game_ids = [], []\n",
    "    while len(games) < n_games:\n",
    "        random_state = random.randint(0, 1000)\n",
    "        game_id = f\"{model_name}_{loss_function}_{random_state}\"\n",
    "        if game_id not in all_game_ids:\n",
    "            game = game_class(model_name=model_name, loss_function=loss_function, verbose=False, random_state=random_state)\n",
    "            games.append(game)\n",
    "            game_ids.append(game_id)\n",
    "    \n",
    "    # pre-compute the values for the games\n",
    "    print(f\"Precomputing {n_games} games for {setup_game.game_name} with {model_name} and {loss_function}.\")\n",
    "    pre_compute_and_store_from_list(games, game_ids=game_ids, n_jobs=n_jobs)"
   ],
   "id": "b91ada9718d0fd09",
   "outputs": [],
   "execution_count": 3
  },
  {
   "metadata": {
    "ExecuteTime": {
     "end_time": "2024-05-07T14:55:07.100452Z",
     "start_time": "2024-05-07T14:55:03.812732Z"
    }
   },
   "cell_type": "code",
   "source": [
    "# pre-compute the values for the tabular datasets games\n",
    "\n",
    "DATASET_NAME = \"california_housing\"  # \"california_housing\", \"bike_sharing\", \"adult_census\"\n",
    "MODEL_NAME = \"decision_tree\"  # \"decision_tree\", \"random_forest\", \"gradient_boosting\"\n",
    "LOSS_FUNCTION = \"r2_score\"  # \"r2_score\", \"mean_squared_error\", \"mean_absolute_error\", \"log_loss\", \"accuracy\", \"f1_score\", \"roc_auc_score\"\n",
    "N_GAMES = 8\n",
    "N_JOBS = 1\n",
    "\n",
    "pre_compute_tabular_global_xai(DATASET_NAME, MODEL_NAME, LOSS_FUNCTION, N_GAMES, N_JOBS)"
   ],
   "id": "b9d53babcee1a87d",
   "outputs": [
    {
     "name": "stdout",
     "output_type": "stream",
     "text": [
      "Trained model decision_tree for the california_housing dataset.\n",
      "Score on training data: 0.6144619626794067\n",
      "Found 2 games precomputed.\n",
      "Precomputing 8 games for CaliforniaHousing_GlobalExplanation_Game with decision_tree and r2_score.\n"
     ]
    }
   ],
   "execution_count": 6
  }
 ],
 "metadata": {
  "kernelspec": {
   "display_name": "Python 3",
   "language": "python",
   "name": "python3"
  },
  "language_info": {
   "codemirror_mode": {
    "name": "ipython",
    "version": 2
   },
   "file_extension": ".py",
   "mimetype": "text/x-python",
   "name": "python",
   "nbconvert_exporter": "python",
   "pygments_lexer": "ipython2",
   "version": "2.7.6"
  }
 },
 "nbformat": 4,
 "nbformat_minor": 5
}
