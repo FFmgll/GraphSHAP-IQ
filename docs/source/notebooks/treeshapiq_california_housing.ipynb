{
 "cells": [
  {
   "cell_type": "markdown",
   "id": "853488804411d5a7",
   "metadata": {
    "collapsed": false
   },
   "source": [
    "## Explaining Tree-based Models with TreeSHAP-IQ\n",
    "This notebook showcases how we can use `shapiq` to explain the predictions of tree-based models.\n",
    "\n",
    "For this example, we use the California housing dataset https://www.dcc.fc.up.pt/~ltorgo/Regression/cal_housing.html"
   ]
  },
  {
   "cell_type": "markdown",
   "id": "7a5e93a7",
   "metadata": {},
   "source": [
    "### Imports\n",
    "\n",
    "We will use `scikit-learn` to create machine learning models."
   ]
  },
  {
   "cell_type": "code",
   "execution_count": 47,
   "id": "initial_id",
   "metadata": {
    "ExecuteTime": {
     "end_time": "2024-01-04T13:18:53.806704200Z",
     "start_time": "2024-01-04T13:18:53.770362900Z"
    },
    "collapsed": true
   },
   "outputs": [
    {
     "data": {
      "text/plain": [
       "{'shapiq': '0.0.7',\n",
       " 'numpy': '1.26.4',\n",
       " 'pandas': '2.2.1',\n",
       " 'matplotlib': '3.8.3',\n",
       " 'sklearn': '1.4.1.post1'}"
      ]
     },
     "execution_count": 47,
     "metadata": {},
     "output_type": "execute_result"
    }
   ],
   "source": [
    "import shapiq\n",
    "\n",
    "import numpy as np\n",
    "import pandas as pd\n",
    "\n",
    "import matplotlib\n",
    "from matplotlib import pyplot as plt\n",
    "\n",
    "import sklearn\n",
    "from sklearn.model_selection import train_test_split\n",
    "from sklearn.ensemble import RandomForestRegressor\n",
    "from sklearn.tree import DecisionTreeRegressor\n",
    "\n",
    "{v.__name__: v.__version__ for v in [shapiq, np, pd, matplotlib, sklearn]}"
   ]
  },
  {
   "cell_type": "markdown",
   "id": "9eb96897",
   "metadata": {},
   "source": [
    "### Load data\n",
    "\n",
    "California housing dataset considers a regression task to estimate median house value for households within a block (measured in 100k US Dollars). \n",
    "\n",
    "It has the following explanatory features:\n",
    "\n",
    "1. **Longitude**: A measure of how far west a house is; a higher value is farther west.\n",
    "2. **Latitude**: A measure of how far north a house is; a higher value is farther north.\n",
    "3. **HouseAge**: Median age of a house within a block; a lower number is a newer building.\n",
    "4. **AveRooms**: Average number of rooms within a block.\n",
    "5. **AveBedrms**: Average number of bedrooms within a block.\n",
    "6. **Population**: Total number of people residing within a block.\n",
    "7. **MedInc**: Median income for households within a block of houses (measured in tens of thousands of US Dollars).\n",
    "8. **AveOccup**: Average number of residing people per household within a block."
   ]
  },
  {
   "cell_type": "code",
   "execution_count": 48,
   "id": "04a514f2",
   "metadata": {},
   "outputs": [
    {
     "data": {
      "text/html": [
       "<div>\n",
       "<style scoped>\n",
       "    .dataframe tbody tr th:only-of-type {\n",
       "        vertical-align: middle;\n",
       "    }\n",
       "\n",
       "    .dataframe tbody tr th {\n",
       "        vertical-align: top;\n",
       "    }\n",
       "\n",
       "    .dataframe thead th {\n",
       "        text-align: right;\n",
       "    }\n",
       "</style>\n",
       "<table border=\"1\" class=\"dataframe\">\n",
       "  <thead>\n",
       "    <tr style=\"text-align: right;\">\n",
       "      <th></th>\n",
       "      <th>MedInc</th>\n",
       "      <th>HouseAge</th>\n",
       "      <th>AveRooms</th>\n",
       "      <th>AveBedrms</th>\n",
       "      <th>Population</th>\n",
       "      <th>AveOccup</th>\n",
       "      <th>Latitude</th>\n",
       "      <th>Longitude</th>\n",
       "    </tr>\n",
       "  </thead>\n",
       "  <tbody>\n",
       "    <tr>\n",
       "      <th>0</th>\n",
       "      <td>8.3252</td>\n",
       "      <td>41.0</td>\n",
       "      <td>6.984127</td>\n",
       "      <td>1.023810</td>\n",
       "      <td>322.0</td>\n",
       "      <td>2.555556</td>\n",
       "      <td>37.88</td>\n",
       "      <td>-122.23</td>\n",
       "    </tr>\n",
       "    <tr>\n",
       "      <th>1</th>\n",
       "      <td>8.3014</td>\n",
       "      <td>21.0</td>\n",
       "      <td>6.238137</td>\n",
       "      <td>0.971880</td>\n",
       "      <td>2401.0</td>\n",
       "      <td>2.109842</td>\n",
       "      <td>37.86</td>\n",
       "      <td>-122.22</td>\n",
       "    </tr>\n",
       "    <tr>\n",
       "      <th>2</th>\n",
       "      <td>7.2574</td>\n",
       "      <td>52.0</td>\n",
       "      <td>8.288136</td>\n",
       "      <td>1.073446</td>\n",
       "      <td>496.0</td>\n",
       "      <td>2.802260</td>\n",
       "      <td>37.85</td>\n",
       "      <td>-122.24</td>\n",
       "    </tr>\n",
       "    <tr>\n",
       "      <th>3</th>\n",
       "      <td>5.6431</td>\n",
       "      <td>52.0</td>\n",
       "      <td>5.817352</td>\n",
       "      <td>1.073059</td>\n",
       "      <td>558.0</td>\n",
       "      <td>2.547945</td>\n",
       "      <td>37.85</td>\n",
       "      <td>-122.25</td>\n",
       "    </tr>\n",
       "    <tr>\n",
       "      <th>4</th>\n",
       "      <td>3.8462</td>\n",
       "      <td>52.0</td>\n",
       "      <td>6.281853</td>\n",
       "      <td>1.081081</td>\n",
       "      <td>565.0</td>\n",
       "      <td>2.181467</td>\n",
       "      <td>37.85</td>\n",
       "      <td>-122.25</td>\n",
       "    </tr>\n",
       "    <tr>\n",
       "      <th>5</th>\n",
       "      <td>4.0368</td>\n",
       "      <td>52.0</td>\n",
       "      <td>4.761658</td>\n",
       "      <td>1.103627</td>\n",
       "      <td>413.0</td>\n",
       "      <td>2.139896</td>\n",
       "      <td>37.85</td>\n",
       "      <td>-122.25</td>\n",
       "    </tr>\n",
       "    <tr>\n",
       "      <th>6</th>\n",
       "      <td>3.6591</td>\n",
       "      <td>52.0</td>\n",
       "      <td>4.931907</td>\n",
       "      <td>0.951362</td>\n",
       "      <td>1094.0</td>\n",
       "      <td>2.128405</td>\n",
       "      <td>37.84</td>\n",
       "      <td>-122.25</td>\n",
       "    </tr>\n",
       "    <tr>\n",
       "      <th>7</th>\n",
       "      <td>3.1200</td>\n",
       "      <td>52.0</td>\n",
       "      <td>4.797527</td>\n",
       "      <td>1.061824</td>\n",
       "      <td>1157.0</td>\n",
       "      <td>1.788253</td>\n",
       "      <td>37.84</td>\n",
       "      <td>-122.25</td>\n",
       "    </tr>\n",
       "    <tr>\n",
       "      <th>8</th>\n",
       "      <td>2.0804</td>\n",
       "      <td>42.0</td>\n",
       "      <td>4.294118</td>\n",
       "      <td>1.117647</td>\n",
       "      <td>1206.0</td>\n",
       "      <td>2.026891</td>\n",
       "      <td>37.84</td>\n",
       "      <td>-122.26</td>\n",
       "    </tr>\n",
       "    <tr>\n",
       "      <th>9</th>\n",
       "      <td>3.6912</td>\n",
       "      <td>52.0</td>\n",
       "      <td>4.970588</td>\n",
       "      <td>0.990196</td>\n",
       "      <td>1551.0</td>\n",
       "      <td>2.172269</td>\n",
       "      <td>37.84</td>\n",
       "      <td>-122.25</td>\n",
       "    </tr>\n",
       "  </tbody>\n",
       "</table>\n",
       "</div>"
      ],
      "text/plain": [
       "   MedInc  HouseAge  AveRooms  AveBedrms  Population  AveOccup  Latitude  \\\n",
       "0  8.3252      41.0  6.984127   1.023810       322.0  2.555556     37.88   \n",
       "1  8.3014      21.0  6.238137   0.971880      2401.0  2.109842     37.86   \n",
       "2  7.2574      52.0  8.288136   1.073446       496.0  2.802260     37.85   \n",
       "3  5.6431      52.0  5.817352   1.073059       558.0  2.547945     37.85   \n",
       "4  3.8462      52.0  6.281853   1.081081       565.0  2.181467     37.85   \n",
       "5  4.0368      52.0  4.761658   1.103627       413.0  2.139896     37.85   \n",
       "6  3.6591      52.0  4.931907   0.951362      1094.0  2.128405     37.84   \n",
       "7  3.1200      52.0  4.797527   1.061824      1157.0  1.788253     37.84   \n",
       "8  2.0804      42.0  4.294118   1.117647      1206.0  2.026891     37.84   \n",
       "9  3.6912      52.0  4.970588   0.990196      1551.0  2.172269     37.84   \n",
       "\n",
       "   Longitude  \n",
       "0    -122.23  \n",
       "1    -122.22  \n",
       "2    -122.24  \n",
       "3    -122.25  \n",
       "4    -122.25  \n",
       "5    -122.25  \n",
       "6    -122.25  \n",
       "7    -122.25  \n",
       "8    -122.26  \n",
       "9    -122.25  "
      ]
     },
     "execution_count": 48,
     "metadata": {},
     "output_type": "execute_result"
    }
   ],
   "source": [
    "X, y = shapiq.load_california_housing()\n",
    "X.head(10)"
   ]
  },
  {
   "cell_type": "markdown",
   "id": "b0857f1b",
   "metadata": {},
   "source": [
    "Visualize a distribution of the target feature."
   ]
  },
  {
   "cell_type": "code",
   "execution_count": 49,
   "id": "919cd867",
   "metadata": {},
   "outputs": [
    {
     "data": {
      "image/png": "[encoded data removed]",
      "text/plain": [
       "<Figure size 640x480 with 1 Axes>"
      ]
     },
     "metadata": {},
     "output_type": "display_data"
    }
   ],
   "source": [
    "_ = y.hist()"
   ]
  },
  {
   "cell_type": "markdown",
   "id": "6e766ec2",
   "metadata": {},
   "source": [
    "Split the data into train and test subsets."
   ]
  },
  {
   "cell_type": "code",
   "execution_count": 50,
   "id": "dafd7b49bb5aa04c",
   "metadata": {
    "ExecuteTime": {
     "end_time": "2024-01-04T13:18:54.373604900Z",
     "start_time": "2024-01-04T13:18:53.776358700Z"
    },
    "collapsed": false
   },
   "outputs": [],
   "source": [
    "X_train, X_test, y_train, y_test = train_test_split(X, y, test_size=0.25, random_state=42)\n",
    "n_features = X.shape[1]"
   ]
  },
  {
   "cell_type": "markdown",
   "id": "594f5cc5514315a6",
   "metadata": {
    "collapsed": false
   },
   "source": [
    "### Models\n",
    "\n",
    "We train two tree-based models: \n",
    "1. A decision tree with maximum tree depth of 10. It achieves $R^2=0.83$ on train set and $R^2=0.68$ on test set.\n",
    "2. A random forest model of 100 decision trees with maximum tree depth of 8. It achieves $R^2=0.78$ on train set and $R^2=0.73$ on test set.\n",
    "\n",
    "As expected, the random forest model is less overfitted and achieves better validation performance."
   ]
  },
  {
   "cell_type": "code",
   "execution_count": 51,
   "id": "18316568",
   "metadata": {},
   "outputs": [
    {
     "name": "stdout",
     "output_type": "stream",
     "text": [
      "Train R2: 0.832\n",
      "Val R2: 0.684\n"
     ]
    }
   ],
   "source": [
    "model_dt = DecisionTreeRegressor(max_depth=10, random_state=42)\n",
    "model_dt.fit(X_train, y_train)\n",
    "print(f'Train R2: {model_dt.score(X_train, y_train):.3f}')\n",
    "print(f'Val R2: {model_dt.score(X_test, y_test):.3f}')"
   ]
  },
  {
   "cell_type": "code",
   "execution_count": 52,
   "id": "f53094e4abc75a2e",
   "metadata": {
    "ExecuteTime": {
     "end_time": "2024-01-04T13:18:57.664189Z",
     "start_time": "2024-01-04T13:18:54.409763800Z"
    },
    "collapsed": false
   },
   "outputs": [
    {
     "name": "stdout",
     "output_type": "stream",
     "text": [
      "Train R2: 0.779\n",
      "Val R2: 0.733\n"
     ]
    }
   ],
   "source": [
    "model_rf = RandomForestRegressor(n_estimators=100, max_depth=8, max_features=\"sqrt\", random_state=42)\n",
    "model_rf.fit(X_train, y_train)\n",
    "print(f'Train R2: {model_rf.score(X_train, y_train):.3f}')\n",
    "print(f'Val R2: {model_rf.score(X_test, y_test):.3f}')"
   ]
  },
  {
   "cell_type": "markdown",
   "id": "acb9b64d4f122679",
   "metadata": {
    "collapsed": false
   },
   "source": [
    "### Explain feature interactions\n",
    "\n",
    "Beyond predictive performance, we want to explain both models with TreeSHAP-IQ. \n",
    "\n",
    "First, create the `shapiq.Explainer` object that is an interface for explanation."
   ]
  },
  {
   "cell_type": "code",
   "execution_count": 7,
   "id": "e6435098",
   "metadata": {},
   "outputs": [],
   "source": [
    "explainer_rf = shapiq.Explainer(model_rf)"
   ]
  },
  {
   "cell_type": "markdown",
   "id": "8b77136e",
   "metadata": {},
   "source": [
    "`shapiq.Explainer` will automatically detect that the model is tree-based and create the `shapiq.TreeExplainer` object."
   ]
  },
  {
   "cell_type": "code",
   "execution_count": 9,
   "id": "26fb3bec",
   "metadata": {},
   "outputs": [
    {
     "data": {
      "text/plain": [
       "<shapiq.explainer.tree.explainer.TreeExplainer at 0x17bd43d30>"
      ]
     },
     "execution_count": 9,
     "metadata": {},
     "output_type": "execute_result"
    }
   ],
   "source": [
    "explainer_rf"
   ]
  },
  {
   "cell_type": "markdown",
   "id": "8ffce5ef",
   "metadata": {},
   "source": [
    "We proceed in the same manner with the decision tree model."
   ]
  },
  {
   "cell_type": "code",
   "execution_count": 11,
   "id": "8196fb64",
   "metadata": {},
   "outputs": [],
   "source": [
    "explainer_dt = shapiq.Explainer(model_dt)"
   ]
  },
  {
   "cell_type": "markdown",
   "id": "86c72b95",
   "metadata": {},
   "source": [
    "We want to explain price prediction for a new house."
   ]
  },
  {
   "cell_type": "code",
   "execution_count": 12,
   "id": "0165047d",
   "metadata": {},
   "outputs": [
    {
     "data": {
      "text/html": [
       "<div>\n",
       "<style scoped>\n",
       "    .dataframe tbody tr th:only-of-type {\n",
       "        vertical-align: middle;\n",
       "    }\n",
       "\n",
       "    .dataframe tbody tr th {\n",
       "        vertical-align: top;\n",
       "    }\n",
       "\n",
       "    .dataframe thead th {\n",
       "        text-align: right;\n",
       "    }\n",
       "</style>\n",
       "<table border=\"1\" class=\"dataframe\">\n",
       "  <thead>\n",
       "    <tr style=\"text-align: right;\">\n",
       "      <th></th>\n",
       "      <th>MedInc</th>\n",
       "      <th>HouseAge</th>\n",
       "      <th>AveRooms</th>\n",
       "      <th>AveBedrms</th>\n",
       "      <th>Population</th>\n",
       "      <th>AveOccup</th>\n",
       "      <th>Latitude</th>\n",
       "      <th>Longitude</th>\n",
       "    </tr>\n",
       "  </thead>\n",
       "  <tbody>\n",
       "    <tr>\n",
       "      <th>20046</th>\n",
       "      <td>1.6812</td>\n",
       "      <td>25.0</td>\n",
       "      <td>4.192201</td>\n",
       "      <td>1.022284</td>\n",
       "      <td>1392.0</td>\n",
       "      <td>3.877437</td>\n",
       "      <td>36.06</td>\n",
       "      <td>-119.01</td>\n",
       "    </tr>\n",
       "    <tr>\n",
       "      <th>3024</th>\n",
       "      <td>2.5313</td>\n",
       "      <td>30.0</td>\n",
       "      <td>5.039384</td>\n",
       "      <td>1.193493</td>\n",
       "      <td>1565.0</td>\n",
       "      <td>2.679795</td>\n",
       "      <td>35.14</td>\n",
       "      <td>-119.46</td>\n",
       "    </tr>\n",
       "    <tr>\n",
       "      <th>15663</th>\n",
       "      <td>3.4801</td>\n",
       "      <td>52.0</td>\n",
       "      <td>3.977155</td>\n",
       "      <td>1.185877</td>\n",
       "      <td>1310.0</td>\n",
       "      <td>1.360332</td>\n",
       "      <td>37.80</td>\n",
       "      <td>-122.44</td>\n",
       "    </tr>\n",
       "    <tr>\n",
       "      <th>20484</th>\n",
       "      <td>5.7376</td>\n",
       "      <td>17.0</td>\n",
       "      <td>6.163636</td>\n",
       "      <td>1.020202</td>\n",
       "      <td>1705.0</td>\n",
       "      <td>3.444444</td>\n",
       "      <td>34.28</td>\n",
       "      <td>-118.72</td>\n",
       "    </tr>\n",
       "    <tr>\n",
       "      <th>9814</th>\n",
       "      <td>3.7250</td>\n",
       "      <td>34.0</td>\n",
       "      <td>5.492991</td>\n",
       "      <td>1.028037</td>\n",
       "      <td>1063.0</td>\n",
       "      <td>2.483645</td>\n",
       "      <td>36.62</td>\n",
       "      <td>-121.93</td>\n",
       "    </tr>\n",
       "    <tr>\n",
       "      <th>...</th>\n",
       "      <td>...</td>\n",
       "      <td>...</td>\n",
       "      <td>...</td>\n",
       "      <td>...</td>\n",
       "      <td>...</td>\n",
       "      <td>...</td>\n",
       "      <td>...</td>\n",
       "      <td>...</td>\n",
       "    </tr>\n",
       "    <tr>\n",
       "      <th>15316</th>\n",
       "      <td>1.3269</td>\n",
       "      <td>19.0</td>\n",
       "      <td>3.987578</td>\n",
       "      <td>1.153209</td>\n",
       "      <td>1190.0</td>\n",
       "      <td>2.463768</td>\n",
       "      <td>33.20</td>\n",
       "      <td>-117.36</td>\n",
       "    </tr>\n",
       "    <tr>\n",
       "      <th>14772</th>\n",
       "      <td>2.7361</td>\n",
       "      <td>14.0</td>\n",
       "      <td>4.206612</td>\n",
       "      <td>0.983471</td>\n",
       "      <td>1224.0</td>\n",
       "      <td>3.371901</td>\n",
       "      <td>32.57</td>\n",
       "      <td>-117.07</td>\n",
       "    </tr>\n",
       "    <tr>\n",
       "      <th>12870</th>\n",
       "      <td>3.8355</td>\n",
       "      <td>15.0</td>\n",
       "      <td>6.419753</td>\n",
       "      <td>1.039781</td>\n",
       "      <td>2626.0</td>\n",
       "      <td>3.602195</td>\n",
       "      <td>38.71</td>\n",
       "      <td>-121.40</td>\n",
       "    </tr>\n",
       "    <tr>\n",
       "      <th>13476</th>\n",
       "      <td>4.3958</td>\n",
       "      <td>10.0</td>\n",
       "      <td>6.154506</td>\n",
       "      <td>1.013948</td>\n",
       "      <td>3528.0</td>\n",
       "      <td>3.785408</td>\n",
       "      <td>34.09</td>\n",
       "      <td>-117.39</td>\n",
       "    </tr>\n",
       "    <tr>\n",
       "      <th>16123</th>\n",
       "      <td>2.7431</td>\n",
       "      <td>51.0</td>\n",
       "      <td>3.857143</td>\n",
       "      <td>1.002597</td>\n",
       "      <td>880.0</td>\n",
       "      <td>2.285714</td>\n",
       "      <td>37.78</td>\n",
       "      <td>-122.47</td>\n",
       "    </tr>\n",
       "  </tbody>\n",
       "</table>\n",
       "<p>6812 rows × 8 columns</p>\n",
       "</div>"
      ],
      "text/plain": [
       "       MedInc  HouseAge  AveRooms  AveBedrms  Population  AveOccup  Latitude  \\\n",
       "20046  1.6812      25.0  4.192201   1.022284      1392.0  3.877437     36.06   \n",
       "3024   2.5313      30.0  5.039384   1.193493      1565.0  2.679795     35.14   \n",
       "15663  3.4801      52.0  3.977155   1.185877      1310.0  1.360332     37.80   \n",
       "20484  5.7376      17.0  6.163636   1.020202      1705.0  3.444444     34.28   \n",
       "9814   3.7250      34.0  5.492991   1.028037      1063.0  2.483645     36.62   \n",
       "...       ...       ...       ...        ...         ...       ...       ...   \n",
       "15316  1.3269      19.0  3.987578   1.153209      1190.0  2.463768     33.20   \n",
       "14772  2.7361      14.0  4.206612   0.983471      1224.0  3.371901     32.57   \n",
       "12870  3.8355      15.0  6.419753   1.039781      2626.0  3.602195     38.71   \n",
       "13476  4.3958      10.0  6.154506   1.013948      3528.0  3.785408     34.09   \n",
       "16123  2.7431      51.0  3.857143   1.002597       880.0  2.285714     37.78   \n",
       "\n",
       "       Longitude  \n",
       "20046    -119.01  \n",
       "3024     -119.46  \n",
       "15663    -122.44  \n",
       "20484    -118.72  \n",
       "9814     -121.93  \n",
       "...          ...  \n",
       "15316    -117.36  \n",
       "14772    -117.07  \n",
       "12870    -121.40  \n",
       "13476    -117.39  \n",
       "16123    -122.47  \n",
       "\n",
       "[6812 rows x 8 columns]"
      ]
     },
     "execution_count": 12,
     "metadata": {},
     "output_type": "execute_result"
    }
   ],
   "source": [
    "small_house = pd.DataFrame({'medInc'})"
   ]
  },
  {
   "cell_type": "code",
   "execution_count": null,
   "id": "a378e3dc",
   "metadata": {},
   "outputs": [],
   "source": [
    "id_observation = 0"
   ]
  },
  {
   "cell_type": "code",
   "execution_count": null,
   "id": "9764e3c2",
   "metadata": {},
   "outputs": [],
   "source": [
    "x = X_test[0]"
   ]
  },
  {
   "cell_type": "code",
   "execution_count": null,
   "id": "81be2c2049c53b57",
   "metadata": {
    "ExecuteTime": {
     "end_time": "2024-01-04T13:18:58.059113600Z",
     "start_time": "2024-01-04T13:18:57.679575800Z"
    },
    "collapsed": false
   },
   "outputs": [],
   "source": [
    "interaction_values_tabular = explainer_tabular.explain(x, budget=2**n_features)"
   ]
  },
  {
   "cell_type": "code",
   "execution_count": null,
   "id": "79e54c1e",
   "metadata": {},
   "outputs": [],
   "source": [
    "interaction_values_tree = explainer_tree.explain(x)"
   ]
  },
  {
   "cell_type": "markdown",
   "id": "35ad0602713e1b85",
   "metadata": {
    "collapsed": false
   },
   "source": [
    "### visualize"
   ]
  },
  {
   "cell_type": "code",
   "execution_count": null,
   "id": "dfc8ecdfc3f720",
   "metadata": {
    "ExecuteTime": {
     "end_time": "2024-01-04T13:18:58.115862900Z",
     "start_time": "2024-01-04T13:18:58.077337200Z"
    },
    "collapsed": false
   },
   "outputs": [],
   "source": [
    "first_order_values = np.asarray([interaction_values_tabular[(i,)] for i in range(n_features)])\n",
    "second_order_values = np.zeros((n_features, n_features))\n",
    "for i in range(n_features):\n",
    "    for j in range(n_features):\n",
    "        if i == j:\n",
    "            continue\n",
    "        second_order_values[i, j] = interaction_values_tabular[(i, j)]"
   ]
  },
  {
   "cell_type": "code",
   "execution_count": null,
   "id": "db9caa01d8496958",
   "metadata": {
    "ExecuteTime": {
     "end_time": "2024-01-04T13:18:58.274265100Z",
     "start_time": "2024-01-04T13:18:58.091709Z"
    },
    "collapsed": false
   },
   "outputs": [],
   "source": [
    "fig, axes = shapiq.network_plot(\n",
    "    first_order_values=first_order_values,\n",
    "    second_order_values=second_order_values,\n",
    "    feature_names=data.drop(\"Count\", axis=1).columns,\n",
    ")\n",
    "plt.tight_layout()\n",
    "plt.show()"
   ]
  },
  {
   "cell_type": "code",
   "execution_count": null,
   "id": "49395db0",
   "metadata": {},
   "outputs": [],
   "source": [
    "first_order_values = np.asarray([interaction_values_tree[(i,)] for i in range(n_features)])\n",
    "second_order_values = np.zeros((n_features, n_features))\n",
    "for i in range(n_features):\n",
    "    for j in range(n_features):\n",
    "        if i == j:\n",
    "            continue\n",
    "        second_order_values[i, j] = interaction_values_tree[(i, j)]"
   ]
  },
  {
   "cell_type": "code",
   "execution_count": null,
   "id": "6d2e9da9",
   "metadata": {},
   "outputs": [],
   "source": [
    "fig, axes = shapiq.network_plot(\n",
    "    first_order_values=first_order_values,\n",
    "    second_order_values=second_order_values,\n",
    "    feature_names=data.drop(\"Count\", axis=1).columns,\n",
    ")\n",
    "plt.tight_layout()\n",
    "plt.show()"
   ]
  }
 ],
 "metadata": {
  "kernelspec": {
   "display_name": "Python 3",
   "language": "python",
   "name": "python3"
  },
  "language_info": {
   "codemirror_mode": {
    "name": "ipython",
    "version": 3
   },
   "file_extension": ".py",
   "mimetype": "text/x-python",
   "name": "python",
   "nbconvert_exporter": "python",
   "pygments_lexer": "ipython3",
   "version": "3.9.19"
  }
 },
 "nbformat": 4,
 "nbformat_minor": 5
}
